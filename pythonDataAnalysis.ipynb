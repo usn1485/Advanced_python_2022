{
  "nbformat": 4,
  "nbformat_minor": 0,
  "metadata": {
    "colab": {
      "name": "pythonDataAnalysis.ipynb",
      "provenance": [],
      "authorship_tag": "ABX9TyN3hhCdOTXwS4q+iP+F52ep",
      "include_colab_link": true
    },
    "kernelspec": {
      "name": "python3",
      "display_name": "Python 3"
    },
    "language_info": {
      "name": "python"
    }
  },
  "cells": [
    {
      "cell_type": "markdown",
      "metadata": {
        "id": "view-in-github",
        "colab_type": "text"
      },
      "source": [
        "<a href=\"https://colab.research.google.com/github/usn1485/Advanced_python_2022/blob/main/pythonDataAnalysis.ipynb\" target=\"_parent\"><img src=\"https://colab.research.google.com/assets/colab-badge.svg\" alt=\"Open In Colab\"/></a>"
      ]
    },
    {
      "cell_type": "code",
      "source": [
        "!git clone https://github.com/usn1485/Advanced_python_2022.git"
      ],
      "metadata": {
        "colab": {
          "base_uri": "https://localhost:8080/"
        },
        "id": "NrbuNUbXdc_0",
        "outputId": "481b465e-c74c-46f4-8fd3-f8ac3f966649"
      },
      "execution_count": 27,
      "outputs": [
        {
          "output_type": "stream",
          "name": "stdout",
          "text": [
            "fatal: destination path 'Advanced_python_2022' already exists and is not an empty directory.\n"
          ]
        }
      ]
    },
    {
      "cell_type": "code",
      "source": [
        "%cd /content/colab_git"
      ],
      "metadata": {
        "colab": {
          "base_uri": "https://localhost:8080/"
        },
        "id": "qrjpEnu9dqM2",
        "outputId": "fc720ace-906b-40bd-f595-7986ccda2847"
      },
      "execution_count": 28,
      "outputs": [
        {
          "output_type": "stream",
          "name": "stdout",
          "text": [
            "[Errno 2] No such file or directory: '/content/colab_git'\n",
            "/content\n"
          ]
        }
      ]
    },
    {
      "cell_type": "code",
      "source": [
        "square= [i**2 for i in range(1,11)]\n",
        "square"
      ],
      "metadata": {
        "colab": {
          "base_uri": "https://localhost:8080/"
        },
        "id": "KleD8UU6kPEq",
        "outputId": "269f9a57-80d9-4888-a7c1-b025f2d7c31e"
      },
      "execution_count": null,
      "outputs": [
        {
          "output_type": "execute_result",
          "data": {
            "text/plain": [
              "[1, 4, 9, 16, 25, 36, 49, 64, 81, 100]"
            ]
          },
          "metadata": {},
          "execution_count": 2
        }
      ]
    },
    {
      "cell_type": "code",
      "source": [
        "squares_by_four= [i**2 for i in range(1,11) if i**2 %4==0]\n",
        "squares_by_four"
      ],
      "metadata": {
        "colab": {
          "base_uri": "https://localhost:8080/"
        },
        "id": "ZQroFKGUkPJ3",
        "outputId": "796a7ab3-2c01-4deb-d2e2-5bb053a08666"
      },
      "execution_count": null,
      "outputs": [
        {
          "output_type": "execute_result",
          "data": {
            "text/plain": [
              "[4, 16, 36, 64, 100]"
            ]
          },
          "metadata": {},
          "execution_count": 5
        }
      ]
    },
    {
      "cell_type": "code",
      "source": [
        "# dict comprehensions\n",
        "sqaures_dict= {i: i**2 for i in range(1,11)}\n",
        "sqaures_dict"
      ],
      "metadata": {
        "colab": {
          "base_uri": "https://localhost:8080/"
        },
        "id": "WnBdLfMDkPQG",
        "outputId": "384484ae-72f6-4ac8-8198-b731c4facc79"
      },
      "execution_count": null,
      "outputs": [
        {
          "output_type": "execute_result",
          "data": {
            "text/plain": [
              "{1: 1, 2: 4, 3: 9, 4: 16, 5: 25, 6: 36, 7: 49, 8: 64, 9: 81, 10: 100}"
            ]
          },
          "metadata": {},
          "execution_count": 6
        }
      ]
    },
    {
      "cell_type": "code",
      "source": [
        "#reversing key values in dictionary\n",
        "capitals_by_country={\"United-States\":\"Washington\", \"FRANCe\":\"Paris\",\"Italy\":\"Rome\"}\n",
        "countries_by_capital={ capital: country for country, capital in capitals_by_country.items()}\n",
        "countries_by_capital"
      ],
      "metadata": {
        "colab": {
          "base_uri": "https://localhost:8080/"
        },
        "id": "4KUqBAR3kPTt",
        "outputId": "c35b34fa-d249-4086-c96b-c37b3fbded23"
      },
      "execution_count": null,
      "outputs": [
        {
          "output_type": "execute_result",
          "data": {
            "text/plain": [
              "{'Paris': 'FRANCe', 'Rome': 'Italy', 'Washington': 'United-States'}"
            ]
          },
          "metadata": {},
          "execution_count": 8
        }
      ]
    },
    {
      "cell_type": "code",
      "source": [
        "sum(i**2 for i in range(1,11))"
      ],
      "metadata": {
        "colab": {
          "base_uri": "https://localhost:8080/"
        },
        "id": "r1yk9tc8kPXR",
        "outputId": "f9a7b490-680c-491f-a72b-5d39d1dec670"
      },
      "execution_count": null,
      "outputs": [
        {
          "output_type": "execute_result",
          "data": {
            "text/plain": [
              "385"
            ]
          },
          "metadata": {},
          "execution_count": 9
        }
      ]
    },
    {
      "cell_type": "code",
      "source": [
        "# Nested Comprehension\n",
        "counting=[]\n",
        "for i in range(1,11):\n",
        "    for j in range(1,i+1): \n",
        "      counting.append(j)\n",
        "\n",
        "print(counting)\n"
      ],
      "metadata": {
        "colab": {
          "base_uri": "https://localhost:8080/"
        },
        "id": "RabaQKR7oBjK",
        "outputId": "06eef5b6-c09a-48b5-b1fd-1beef4376d86"
      },
      "execution_count": null,
      "outputs": [
        {
          "output_type": "stream",
          "name": "stdout",
          "text": [
            "[1, 1, 2, 1, 2, 3, 1, 2, 3, 4, 1, 2, 3, 4, 5, 1, 2, 3, 4, 5, 6, 1, 2, 3, 4, 5, 6, 7, 1, 2, 3, 4, 5, 6, 7, 8, 1, 2, 3, 4, 5, 6, 7, 8, 9, 1, 2, 3, 4, 5, 6, 7, 8, 9, 10]\n"
          ]
        }
      ]
    },
    {
      "cell_type": "code",
      "source": [
        "counting= [j for i in range(1,11) for j in range(1,i+1)]\n",
        "print((counting))"
      ],
      "metadata": {
        "colab": {
          "base_uri": "https://localhost:8080/"
        },
        "id": "xd4LH8iNoBk-",
        "outputId": "2e3a320d-4f2c-4bb2-d800-5a269825068e"
      },
      "execution_count": 1,
      "outputs": [
        {
          "output_type": "stream",
          "name": "stdout",
          "text": [
            "[1, 1, 2, 1, 2, 3, 1, 2, 3, 4, 1, 2, 3, 4, 5, 1, 2, 3, 4, 5, 6, 1, 2, 3, 4, 5, 6, 7, 1, 2, 3, 4, 5, 6, 7, 8, 1, 2, 3, 4, 5, 6, 7, 8, 9, 1, 2, 3, 4, 5, 6, 7, 8, 9, 10]\n"
          ]
        }
      ]
    },
    {
      "cell_type": "code",
      "source": [
        ""
      ],
      "metadata": {
        "id": "vc41sEkbd8UE"
      },
      "execution_count": null,
      "outputs": []
    },
    {
      "cell_type": "code",
      "source": [
        "# Palindrome Method: 1. find reverse of string and compare reverse is same as original word \n",
        "\n",
        "word=\"MaM\"\n",
        "\n",
        "# change the case to lower case\n",
        "# \n",
        "word_lower= word.lower()\n",
        "\n",
        "rev_w= word_lower[::-1]\n",
        "print(rev_w)\n",
        "\n",
        "if word_lower == rev_w:\n",
        "  print('True') \n",
        "else:\n",
        "  print('False')\n"
      ],
      "metadata": {
        "colab": {
          "base_uri": "https://localhost:8080/"
        },
        "id": "ArRTXexod8cz",
        "outputId": "fcb7273f-ffdd-4f07-f4eb-51275bf4e03a"
      },
      "execution_count": 9,
      "outputs": [
        {
          "output_type": "stream",
          "name": "stdout",
          "text": [
            "mam\n",
            "True\n"
          ]
        }
      ]
    },
    {
      "cell_type": "code",
      "source": [
        "def is_palindrome(word):\n",
        "  return word.lower() == word.lower()[::-1]\n",
        "\n",
        "word= 'boy'\n",
        "ans = is_palindrome(word)\n",
        "\n",
        "if ans: \n",
        "  print('YES')\n",
        "else:\n",
        "  print('No')\n",
        "\n",
        "\n",
        "\n"
      ],
      "metadata": {
        "colab": {
          "base_uri": "https://localhost:8080/"
        },
        "id": "WM09xn85FFFf",
        "outputId": "d3cfd9a7-322f-4ccd-db75-5f23897b5e75"
      },
      "execution_count": 11,
      "outputs": [
        {
          "output_type": "stream",
          "name": "stdout",
          "text": [
            "No\n"
          ]
        }
      ]
    },
    {
      "cell_type": "code",
      "source": [
        "# Find anagrams fro two words\n",
        "w1=\"silent\"\n",
        "w2='listen'\n",
        "\n",
        "if sorted(w1) == sorted(w2):\n",
        "  print('YES')\n",
        "else:\n",
        "  print('NO')"
      ],
      "metadata": {
        "colab": {
          "base_uri": "https://localhost:8080/"
        },
        "id": "Y3Y7HCcuHplB",
        "outputId": "be2829da-b028-419c-b2fb-e855223ad238"
      },
      "execution_count": 13,
      "outputs": [
        {
          "output_type": "stream",
          "name": "stdout",
          "text": [
            "YES\n"
          ]
        }
      ]
    },
    {
      "cell_type": "code",
      "source": [
        "# Find anagrams for a list of words \n",
        "def is_anagram(w_l):\n",
        "\n",
        "   for w in w_l:\n",
        "     if len(w)> 1:\n",
        "      #  sort and store the word\n",
        "        sig_word= sorted(w)\n",
        "\n",
        "        if sig_word == sorted(w):\n",
        "          print(\"YES\")\n",
        "        else: \n",
        "          print('NO')\n",
        "\n",
        "is_anagram(['apple','boy','the'])   "
      ],
      "metadata": {
        "colab": {
          "base_uri": "https://localhost:8080/"
        },
        "id": "10xFg3-JH95V",
        "outputId": "5dcd79a4-d0de-4a69-cab9-4a61a2ed3605"
      },
      "execution_count": 16,
      "outputs": [
        {
          "output_type": "stream",
          "name": "stdout",
          "text": [
            "YES\n",
            "YES\n",
            "YES\n"
          ]
        }
      ]
    },
    {
      "cell_type": "code",
      "source": [
        "# Find bigrams\n",
        "input= \"What is the name of your favorite school?\"\n",
        "bigram=[('what', 'is'),('is','the'),('the','name')]\n",
        "\n",
        "list_words = input.lower().split()\n",
        "bigrams=[]\n",
        "\n",
        "\n",
        "for i in range(1,len(list_words)):\n",
        "    \n",
        "    set_w= (list_words[i-1], list_words[i])\n",
        "    temp = list_words[i]\n",
        "    bigrams.append(set_w)\n",
        "\n",
        "\n",
        "print(bigrams)"
      ],
      "metadata": {
        "colab": {
          "base_uri": "https://localhost:8080/"
        },
        "id": "Ytp1k0TiGuWi",
        "outputId": "158f9ef6-84a0-4839-c4c0-8222fb37c207"
      },
      "execution_count": 22,
      "outputs": [
        {
          "output_type": "stream",
          "name": "stdout",
          "text": [
            "[('what', 'is'), ('is', 'the'), ('the', 'name'), ('name', 'of'), ('of', 'your'), ('your', 'favorite'), ('favorite', 'school?')]\n"
          ]
        }
      ]
    },
    {
      "cell_type": "code",
      "source": [
        "# Swap Case\n"
      ],
      "metadata": {
        "id": "sva1HmRccBmr"
      },
      "execution_count": null,
      "outputs": []
    },
    {
      "cell_type": "code",
      "source": [
        ""
      ],
      "metadata": {
        "id": "T-9K1sOWdb2j"
      },
      "execution_count": null,
      "outputs": []
    }
  ]
}